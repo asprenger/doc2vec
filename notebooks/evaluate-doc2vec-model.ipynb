{
 "cells": [
  {
   "cell_type": "code",
   "execution_count": 1,
   "metadata": {},
   "outputs": [
    {
     "name": "stdout",
     "output_type": "stream",
     "text": [
      "Doc2Vec(dm/c,d100,n5,w5,mc10,s0.001,t20)\n"
     ]
    }
   ],
   "source": [
    "import gensim.models.doc2vec\n",
    "from gensim.models import Doc2Vec\n",
    "\n",
    "stopwords_path = 'data/stopwords_german.txt'\n",
    "doc_path = 'dewiki-preprocessed.txt'\n",
    "model_path = 'dewiki.model'\n",
    "\n",
    "model = Doc2Vec.load(model_path)\n",
    "print(model)"
   ]
  },
  {
   "cell_type": "code",
   "execution_count": 2,
   "metadata": {},
   "outputs": [
    {
     "name": "stdout",
     "output_type": "stream",
     "text": [
      "Vocab size: 528683\n",
      "Vector size: 100\n"
     ]
    }
   ],
   "source": [
    "print('Vocab size: %d' % len(model.wv.index2word))\n",
    "print('Vector size: %d' % model.vector_size)\n",
    "\n",
    "# model.wv\n",
    "# => gensim.models.keyedvectors.Word2VecKeyedVectors\n",
    "\n",
    "# Lookup term by index:\n",
    "# model.wv.index2word[0]\n",
    "# => 'jahr'\n",
    "\n",
    "# Lookup term:\n",
    "# model.wv.vocab['jahr']\n",
    "# => {'count': 305445, 'index': 0, 'sample_int': 3898599532}\n",
    "\n",
    "# Get term vector:\n",
    "# model.wv.vectors[0]"
   ]
  },
  {
   "cell_type": "code",
   "execution_count": null,
   "metadata": {},
   "outputs": [],
   "source": [
    "# This is the code that loads documents from train.py\n",
    "# If we need this for evaluation we put this in a common file.\n",
    "# Look at the length check, this has a potential to change the docIDs => prevent empty docs during pre-processing\n",
    "\n",
    "from collections import namedtuple\n",
    "import codecs\n",
    "\n",
    "def read_lines(path):\n",
    "    '''Return lines in file'''\n",
    "    return [line.strip() for line in codecs.open(path, \"r\", \"utf-8\")]\n",
    "\n",
    "print(\"Loading stopwords: {}\".format(stopwords_path))\n",
    "stopwords = read_lines(stopwords_path)\n",
    "stopwords = dict(map(lambda w: (w.lower(), ''), stopwords))\n",
    "    \n",
    "TaggedDocument = namedtuple('TaggedDocument', 'tags words')\n",
    "\n",
    "all_docs = []\n",
    "\n",
    "print('Loading documents: %s' % doc_path)\n",
    "doc_id = 0\n",
    "for i, line in enumerate(open(doc_path, encoding=\"utf-8\")):\n",
    "    line = line.strip()\n",
    "    words = gensim.utils.to_unicode(line).split()\n",
    "\n",
    "    #words = [w for w in words if w not in stopwords and len(w) > 1]\n",
    "    words = [w for w in words if w not in stopwords]\n",
    "\n",
    "    all_docs.append(TaggedDocument([doc_id], words))\n",
    "    doc_id += 1\n",
    "    if doc_id % 50000 == 0:\n",
    "        print(doc_id)\n",
    "        \n",
    "print('%d documents loaded' % len(all_docs))"
   ]
  },
  {
   "cell_type": "markdown",
   "metadata": {},
   "source": [
    "## Are inferred document vectors close to the actual vectors?"
   ]
  },
  {
   "cell_type": "code",
   "execution_count": 42,
   "metadata": {},
   "outputs": [
    {
     "name": "stdout",
     "output_type": "stream",
     "text": [
      "349192\n",
      "[(349192, 0.7934771776199341), (396408, 0.5859248042106628), (56958, 0.5487353801727295)]\n"
     ]
    }
   ],
   "source": [
    "import numpy as np\n",
    "\n",
    "doc_idx = np.random.randint(len(all_docs))\n",
    "doc_idx = 349192\n",
    "inferred_doc_vec = model.infer_vector(all_docs[doc_idx].words)\n",
    "print(doc_idx)\n",
    "print('%s' % (model.docvecs.most_similar([inferred_doc_vec], topn=3)))"
   ]
  },
  {
   "cell_type": "markdown",
   "metadata": {},
   "source": [
    "## Do close documents seem more related than distant ones?"
   ]
  },
  {
   "cell_type": "code",
   "execution_count": 44,
   "metadata": {},
   "outputs": [
    {
     "name": "stdout",
     "output_type": "stream",
     "text": [
      "TARGET (411594): «cheatham county cheatham county county bundesstaat tennessee vereinigten staaten . verwaltungssitz ( county seat ) ashland city . county nordwestlich geographischen zentrums tennessee , norden 40 km kentucky entfernt fläche 795 quadratkilometern , wovon 12 quadratkilometer wasserfläche . grenzt uhrzeigersinn countys : robertson county , davidson county , williamson county , dickson county montgomery county . cheatham county 28 . februar 1856 davidson county , dickson county , montgomery county robertson county gebildet . benannt edward saunders cheatham , politiker tennessee . volkszählung jahr 2000 lebten cheatham county 35 . 912 menschen 12 . 878 haushalten 10 . 160 familien . bevölkerungsdichte betrug 46 einwohner quadratkilometer . ethnisch betrachtet bevölkerung 96 , 86 prozent weißen , 1 , 48 prozent afroamerikanern , 0 , 38 prozent amerikanischen ureinwohnern , 0 , 18 prozent asiaten , 0 , 05 prozent bewohnern pazifischen inselraum 0 , 36 prozent ethnischen gruppen ; 0 , 70 prozent stammten ethnien . 1 , 22 prozent bevölkerung spanischer lateinamerikanischer abstammung . 12 . 878 haushalten 39 , 6 prozent kinder jugendliche 18 jahre , lebten . 64 , 9 prozent verheiratete , zusammenlebende paare , 9 , 6 prozent erziehende mütter 21 , 1 prozent familien . 16 , 9 prozent singlehaushalte 5 , 3 prozent lebten personen alter 65 jahren . durchschnittshaushaltsgröße betrug 2 , 76 durchschnittliche haushaltsgröße betrug 3 , 08 personen . 27 , 7 prozent bevölkerung 18 jahre alt , 7 , 3 prozent 18 24 , 33 , 5 prozent 25 44 , 23 , 0 prozent 45 64 8 , 6 prozent älter 65 . durchschnittsalter betrug 35 jahre . 100 weibliche personen kamen statistisch 100 , 3 männliche personen 100 frauen alter 18 jahren kamen 97 , 4 männer . jährliche durchschnittseinkommen haushalts betrug 45 . 836 usd , durchschnittseinkommen familien betrug 49 . 143 usd . männer durchschnittseinkommen 34 . 476 usd , frauen 25 . 191 usd . prokopfeinkommen betrug 18 . 882 usd . 5 , 3 prozent familien 7 , 4 prozent einwohner lebten armutsgrenze .»\n",
      "\n",
      "SIMILAR/DISSIMILAR DOCS\n",
      "\n",
      "MOST (265442, 0.777962863445282): «marshall county ( tennessee ) marshall county county bundesstaat tennessee vereinigten staaten . verwaltungssitz ( county seat ) lewisburg . county südlich geographischen zentrums tennessee , süden 45 km alabama entfernt fläche 974 quadratkilometern , wovon 2 quadratkilometer wasserfläche . grenzt uhrzeigersinn countys : rutherford county , bedford county , lincoln county , giles county , maury county williamson county . marshall county 20 . februar 1836 bedford county , lincoln county maury county gebildet . benannt john marshall , vorsitzenden richter gerichtshof vereinigten staaten ( \" supreme court of the united states \" ) . volkszählung jahr 2000 lebten marshall county 26 . 767 menschen 10 . 307 haushalten 7 . 472 familien . bevölkerungsdichte betrug 28 einwohner quadratkilometer . ethnisch betrachtet bevölkerung 89 , 42 prozent weißen , 7 , 77 prozent afroamerikanern , 0 , 25 prozent amerikanischen ureinwohnern , 0 , 31 prozent asiaten , 0 , 01 prozent bewohnern pazifischen inselraum 1 , 46 prozent ethnischen gruppen ; 0 , 77 prozent stammten ethnien . 2 , 87 prozent bevölkerung spanischer lateinamerikanischer abstammung . 10 . 307 haushalten 33 , 8 prozent kinder jugendliche 18 jahre , lebten . 56 , 8 prozent verheiratete , zusammenlebende paare , 11 , 6 prozent erziehende mütter 27 , 5 prozent familien . 23 , 9 prozent singlehaushalte 10 , 0 prozent lebten personen alter 65 jahren . durchschnittshaushaltsgröße betrug 2 , 56 durchschnittliche haushaltsgröße betrug 3 , 02 personen . 25 , 6 prozent bevölkerung 18 jahre alt , 8 , 7 prozent 18 24 , 29 , 9 prozent 25 44 , 23 , 2 prozent 45 64 12 , 6 prozent älter 65 . durchschnittsalter betrug 36 jahre . 100 weibliche personen kamen statistisch 95 , 4 männliche personen 100 frauen alter 18 jahren kamen 92 , 9 männer . jährliche durchschnittseinkommen haushalts betrug 38 . 457 usd , durchschnittseinkommen familien betrug 45 . 731 usd . männer durchschnittseinkommen 31 . 876 usd , frauen 22 . 362 usd . prokopfeinkommen betrug 17 . 749 usd . 7 , 3 prozent familien 10 , 0 prozent einwohner lebten armutsgrenze .»\n",
      "\n",
      "MEDIAN (408880, 0.043021976947784424): «john jay john jay ( * new york city , provinz new york ; † 17 . mai 1829 bedford , new york ) politiker , jurist gründerväter vereinigten staaten . unabhängigkeitskrieges diplomat tätig bekleidete mai 1784 märz 1790 zweiter amt außenministers vereinigten staaten . oktober 1789 juni 1795 diente richter usa . juli 1795 juni 1801 zweiter gouverneur new york . masern-epidemie , kinder starb kinder , peter anna blind , mary peter jay 1746 aufs land rye , westchester county . john umzug 3 monate alt . 10 geschwistern überlebten 3 brüder 3 schwestern erwachsenenalter . mutter , mary . van cortlandt , unterrichtete john hause alter 8 jahren . ging 3 jahre internat new rochelle , französischen hugenotten-pastor , pierre stouppe , unterrichtet . 1756 kehrte rye , mutter hauslehrer , george murray , unterrichtet . 29 . august 1760 studium kings college ( : columbia university ) , studien latein , griechisch philosophie . graduierte 1764 juristische ausbildung anwaltskanzlei benjamin kissam . stamp act zwang john anwälte streiken widerstand britische gesetz auszudrücken . john lebte 1765 1766 rye , klassiker las . unabhängigkeitskrieges vereinigten staaten spielte jay tragende rolle . fünfte präsident kontinentalkongresses 10 . dezember 1778 27 . september 1779 führer gemeinwesens , vereinigten staaten hervorgehen . vorgänger amt henry laurens , nachfolger samuel huntington . 1783 unterzeichnete john jay gemeinsam john adams benjamin franklin friedensvertrag paris , unabhängigkeitskrieg beendete . verfassungskonvent philadelphia jay teil , aufsätze federalist papers . 1779 1782 jay botschafter vereinigten staaten spanien tätig . 7 . mai 1784 kontinentalkongress zweiten außenminister vereinigten staaten berufen . nachfolger thomas jefferson frankreich weilte , 22 . märz 1790 regierung george washington . washingtons wahl präsidenten 1789 jay 19 . oktober chief justice of the united states ernannt worden . 1790 american academy of arts sciences gewählt . 1792 schickte präsident washington london , staats-vertrag briten auszuhandeln . vertrag , heimkam , \" jay ' s treaty \" genannt , enttäuschte amerikaner . jay unbeliebt , bemerkte , könne boston philadelphia fahren , beleuchtung brennende puppen abbild . vertragstext ausgehandelt , entschied , \" jay’s treaty \" annehmbar , washington unterschrieben . diplomatische mission führte jay 1794 ausland , diesmal frankreich . zeit gouverneur bundesstaates new york gewählt . jay richteramt 29 . juni 1795 1 . juli 1795 30 . juni 1801 gouverneur . erreichte 1799 ziel , sklaverei new york abzuschaffen . präsident john adams nominierte 1800 amtszeit gerichtshof ; senat bestätigte rasch ernennung , jay lehnte , schlechte gesundheit verweisend , gericht „ energie , gewicht , essentiell bestimmungsgemäße unterstützung nationalen regierung “ , fehle . 28 . april 1774 heiratete john sarah van brugh livingston , tochter william livingston , gouverneur staates new jersey , susannah french livingston . zeitpunkt hochzeit sarah 17 jahre john 28 jahre alt . kinder , 3 wochen geburt verstarb :»\n",
      "\n",
      "LEAST (30654, -0.5440662503242493): «san francisco san francisco ( aussprache : , san franzisko ) , offiziell \" city county of san francisco \" ( stadt kreis san francisco ) , stadt metropolregion us-bundesstaat kalifornien westküste vereinigten staaten pazifischen ozean . 805 . 195 einwohnern ( stand volkszählung 2010 ) viertgrößte stadt kaliforniens . globalen vergleich großen städten frankfurt main amsterdam mittelgroße weltstadt . name stadt spanischen ursprungs . san francisco heiligen franziskus , franz assisi , benannt . großstadt nördlichen spitze san-francisco-halbinsel , bucht san francisco südwestlich abschließt . stadtgebiet , deckungsgleich gleichnamigen county ( offizielle eigenbezeichnung stadt : \" city county of san francisco \" ) , besitzt näherungsweise quadratischen umriss . 11 km kantenlänge . stadt westen pazifik , norden golden gate osten bucht begrenzt . san francisco berühmt hügel , metern höhe \" hill \" genannt ; gesamten stadtgebiet zweiundvierzig . zentrum stadtgebiets liegen 275 m hohen twin peaks , spanischen missionaren grund aussehens „ los pechos de la chola “ , deutsch „ brüste indianermädchens “ , genannt . rücken , twin peaks benachbarten mount sutro verbindet , befindet 300 m hohe sendeturm \" sutro tower \" , stadtbild weithin sichtbar dominiert . san francisco besitzt us-amerikanische großstädte großräumig strikt rechtwinkliges straßennetz , regel ungeachtet geografischen verhältnisse angelegt . führt speziell älteren , nordöstlichen stadtteilen teilweise steilen strassenabschnitten , komfortabler überwindung andrew smith hallidie 1870 cable cars entwickelte . bereich höchsten hügel ( twin peaks , mount davidson ) strassenverläufe geografie angepasst . \" belle of the bay \" , stadt liebevoll genannt , bedeutendsten hafenstädte westküste nordamerikas . bedeutung erlangte stadt meer geschützten naturhafen . bucht san francisco liegen , museum dienende gefängnisinsel alcatraz , angel island , treasure island , yerba buena island kleine inseln . pazifik san francisco liegen farallon-inseln . nähe stadt san-andreas-verwerfung birgt erhöhtes risiko erdbeben . 18 . april 1906 ereignete schwerste erdbeben . erstreckte san juan bautista eureka stärke 7 , 8 richterskala . folge bränden sprengungen 3000 menschen getötet viertel san francisco zerstört beziehungsweise erheblich beschädigt . \" loma-prieta-erdbeben \" 1989 große beben region ( 7 , 1 richterskala ) . erhebliche auswirkungen stadt . straßen freeways beschädigt . embarcadero freeway nördlichen stadt beben opfer abgerissen . fahrbahn zweistöckigen bay bridge fielen darunterliegende ebene . 30 . oktober 2007 erdbeben stärke 5 , 6 , epizentrum nähe san josé . schäden san francisco . \" loma-prieta-erdbeben \" stärkste region bay-area . experten befürchten zukunft stärkeres erdbeben 1906 . jahr 2008 geologische dienst usa ( usgs ) \" südkalifornische erdbebenzentrum \" studie . forscher rahmen 30-jahre-prognose schweres erdbeben kalifornien voraus . wahrscheinlichkeit beben stärke 6 , 7 99 , 7 prozent , stärke 7 , 5 beträgt 46 prozent . amerikanischen städten japantown chinatown . chinatown san francisco bildet chinesen sunset richmond districts größten chinesenviertel volksrepublik china . außerdem vietnamesische gemeinde stadtteil tenderloin , filipinos crocker amazon , italienische gemeinde north beach , french quarter irische russische gemeinde richmond district . hispanisch geprägte mission district ältesten stadtteile . 21 missionen , spanischen missionaren gegründet . russian hill namen goldrausches entdeckten gräber russischer trapper . haight-ashbury erlangte 1960er-jahren berühmtheit prominentesten ansammlungen hippies . castro größte lesben- schwulenviertel stadt . größte afro-amerikanische gemeinde befindet südöstlich bayview hunters point . richmond , westseite stadt nördlich golden gate parks gelegen , wesentlichen asiatischen einwanderern geprägt . südlich market street , wenigen straßen quer verläuft , stadtteil soma ( south of market ) , galerien kunstaktivitäten . vorherrschende mediterrane klima stark lage san franciscos küste pazifik beeinflusst , nördlicher richtung kommenden , kalten kalifornienstrom . sommer kühler regionen vergleichbarer geografischer breite nahezu regenfrei . wärmsten monate september oktober , geografische lage . winter vergleichsweise mild niederschlagsreich , frost selten . tagestemperatur sommer reicht 15 25 grad celsius . morgendlichen nebelschwaden , meer hügel . advektionsnebel entsteht , westwinde transportierte , relativ warme , feuchte luft offenen meer kommend kalifornienstrom abkühlt kondensiert . unterschiedlichen mikroklimate . , golden gate empfindlich kühl stadtzentrum hochsommerlich warm . ursprünglich bucht san francisco indianerstamm travianer muwekma ohlone besiedelt , 19 . jahrhundert ausgerottet . spanischen eroberer schickten 16 . jahrhundert expeditionen norden amerikas , westküste erkunden . hernán cortés „ halbinsel golf ozean “ entdeckt nannte california . offizielle entdeckung erfolgte juan rodríguez cabrillo jahre . schwer findende einfahrt bucht 1775 entdeckt , entdecker , francis drake , region 16 . jahrhundert erkundeten . verhinderte nebel sicht meerenge bucht , späte entdeckung verwunderlich . europäer siedelten 1776 , jahrhundert , stadt . spanische soldaten missionare gründeten kirche mission dolores 29 . juni lagune , \" nuestra señora de los dolores \" nannten , presidio golden gate sicherung mission . stadt missionaren gedenken heiligen franz assisi \" san francisco de asís \" genannt , englisch \" saint francis \" . nahe gelegenen siedlung name yerba buena . ( hierba buena bedeutet wörtlich gutes kraut , spanische bezeichnung lokal vorkommende minzeart . ) petra / mallorca stammende franziskanerpater junípero serra leitete missionsgründungen . verehrt . jahr 1792 , 300 jahre entdeckung amerikas christoph kolumbus , gründete britische forscher george vancouver kleine niederlassung nahe yerba buena ( spätere downtown san francisco ) . ausgangsbasis europäische russische siedler , pelzhändler pioniere . mexikanisch-amerikanischen krieg stadt 1846 besitz usa . san francisco erlebte großen aufschwung 1848 beginnenden goldrausch kalifornien . name golden gate leitet ereignis . bevölkerungszahl 900 20 . 000 einzigen jahr . umfeld mission irische spanische grabsteine aufgestellt . schiffe besitzern aufgegeben havarierten hafen . platz schaffen , beschlossen , schiffswracks , füllte hafen erde schutt . große innenstadt \" landfills \" gebaut . zeit entwickelte stadt wirtschaftlichen zentrum kaliforniens . banken – wells fargo bank – namhafte unternehmen san francisco gegründet , levi strauss & co . ghirardelli chocolate company . spätere selbsternannte \" kaiser vereinigten staaten \" \" schutzherr mexiko \" joshua abraham norton wanderte 1849 startkapital 40 . 000 $ südafrika san francisco . grundstücksgeschäfte erlangten reichtum verspielte 1859 . spekulationen gescheitert bankrott norton hand ernannte 17 . september 1859 briefen örtlichen zeitungen politiker kaiser amerika schutzherren mexiko . einundzwanzig jahre lang erließ kaiserliche edikte . 18 . april 1906 stadt erdbeben nachfolgenden feuer verwüstet . zahl todesopfer 700 geschätzt , quellen drei- viermal höhere zahl . missionsgebäude überstand erdbeben schaden , älteste gebäude region . ( san-francisco-erdbeben 1906 ) 1930er jahren golden gate bridge norden oakland bay bridge osten fertiggestellt . stadt wesentlich einfacher erreichen , bevölkerungszahl nochmals erheblich . 1939 treasure island „ golden gate international exposition “ ( weltausstellung ) . insel eigens ausstellung yerba buena island aufgeschüttet . ausstellung 1996 stützpunkt us-marine . gelände zukunft öffentlich genutzt . 1945 nachkriegskonferenz , ergebnis charta vereinten nationen un hervorgingen . san francisco gründungsstätte \" vereinten nationen \" . 1960er jahren stadt zentrum us-amerikanischen bewegungen politische establishment gegenöffentlichkeit . hippie-bewegung feierte 1967 stadt \" summer of love \" höhepunkt . janis joplin bands grateful dead jefferson airplane beeinflussten rockmusik weltweit . begünstigt nähe berkeley-campus university of california . autoren timothy leary , phil k . dick robert anton wilson lebten zeit . scott mckenzies aufnahme john phillips geschriebenen songs \" san francisco ( be sure to wear some flowers your hair ) \" hymne stadt zeit welthit . 1970ern zunehmend homosexuelle stadt , castro district . stadt „ “ stadt homosexuellen usa , \" queer politics \" großen einfluss stadtpolitik . zeit „ stadtgeschichten “ armistead maupin ausgiebig beschrieben . 20 . jahrhunderts stadt nahegelegene silicon valley zentrum wirtschaftlichen aufschwungs informationstechnik . dotcom-booms 1990ern softwarefirmen , unternehmer marketingexperten san francisco beeinflussten soziale landschaft gravierend . ehemals arme arbeiterviertel wandelten „ “ -gegenden trieben immobilienpreise höhe . 2018 deutschen stadt mülheim ruhr \" san francisco-jahr 2018 \" . \" san francisco visiting \" galerie ruhr ganzjährig künstleraustausch , ausstellungen , performances workshops hommage \" stadt veränderung \" . deutsche stadt kiel september 2017 offizielle deutsche partnerstadt san francisco . san francisco liegen 17 national historic landmarks . 185 bauwerke stätten stadt national register of historic places eingetragen . einwohnerzahl stadt san francisco sank 1950 1980 kontinuierlich , . zunahme bevölkerung 1980 2010 beträgt knapp 20% : ¹ census 2010 leben san francisco 805 . 195 menschen . 48 , 1 % weiße , 33 , 3 % asiaten , 6 , 1 % schwarze afroamerikaner , 0 , 5 % indianer 0 , 4 % pazifische insulaner . 6 , 6 % gehören rassen 4 , 7 % rassen . unabhängig rasse 15 , 1 % hispanics latinos . nicht-hispanische weiße 41 , 9 % bevölkerung , san francisco majority-minority-stadt handelt . verhältnis übrigen bevölkerung leben san francisco asiaten nordamerika , chinatown new yorks größte usa . gegensatz üblichen verteilung gegenden welt leben san francisco männer frauen . verhältnis beträgt 103 , 1 : 100 . 1960ern summer of love stadt liberalen zentrum usa hochburg demokratischen partei gewandelt . trend zeigt tatsache , dwight d . eisenhower 1956 letzter republikanischer präsidentschaftskandidat wahlbezirk gewonnen . orientierte politische einstellung sichtbar umgesetzten verordnung frühjahr 2006 , , besitzen verkaufen handfeuerwaffen stadtgebietes verboten . san francisco besitzt 1856 doppelstatus konsolidierte stadt landkreis . bedeutet stadt county ( landkreis ) unterliegen jurisdiktion . einzige verwaltungskonstruktion art kalifornien . bürgermeister stadt vorsitzender verwaltungsrates countys . beigeordnet elf mitglieder verwaltungsrat , board of supervisors . jeweiligen district ( bezirk ) , leben , bürgern gewählt . bekanntestes beispiel harvey milk anzuführen . wappentier stellt phönix dar , asche aufersteht . anlehnung verheerende katastrophe 1906 gewählt . phönix spruch : „ oro en paz , fierro en guerra “ , bedeutet : „ gold frieden , eisen krieg “ . san francisco zentrum us-amerikanischen gegenkultur . ausgehende hippiebewegung stellte meinung sinnentleerten wohlstandsideale weißen mittelschicht frage . san francisco große anzahl viktorianischer häuser . goldgräberzeit mitte 19 . jahrhunderts gebaut . hälfte \" victorians \" erdbeben feuer 1906 opfer . heutzutage san francisco 15 . 000 \" victorians \" . kostete haus durchschnitt 3 . 000 $ , mittlerweile immobilienpreise einhundertfache gestiegen . grundlegend viktorianischen stilrichtungen : \" stick style \" , \" italianate-stil \" , populärsten stile zeit , \" gothic revival style \" \" queen anne style \" . basiert mehrzahl ursprünglichen häuser architektonischen stilrichtungen . mission dolores kirche ( gegründet 9 . oktober 1776 ) sehenswerte sakralbauten stadt . 1971 eingeweihte \" cathedral of saint mary of the assumption \" gough street cathedral hill . 2 . 500 plätze , altar halbkreis anordnen , bieten gläubigen spartanisch ausgestatteten kirche platz messen . zentrale kuppel , 15 etagen erstreckt , strebepfeiler gestützt . wände glas verleihen gotteshaus luftige anmut . kathedrale ersetzte alte saint-mary-kirche , 1962 brand zerstört . neubau kostete . millionen dollar . 1987 zelebrierte papst johannes paul ii . besuches erzbistum san francisco messe . episkopalkirche \" grace cathedral \" befindet nob hill . jahr goldrausches 1849 kleine kapelle gebaut . kirche , erstmals grace \" cathedral \" genannt , großen erdbeben 1906 zerstört worden . eisenbahnbaron bankier crocker vermachte grundstück katastrophe benachbarten gemeinde . gebäude begannen 1928 . lewis hobart baute französisch-gotischen stil . 1964 vollendete kathedrale drittgrößte episkopalkirche usa . beton-stahl-konstruktion erdbebensicher gebaut . \" old saint mary’s cathedral \" genannte \" catholic cathedral of saint mary of the immaculate conception \" california street älteste kirche romanischen stil westküste nordamerikas . \" saints peter paul church \" 666 filbert street römisch-katholische kirche stadtteil north beach . drehort film sister act . 1923 san francisco opera gaetano merola ( 1881–1953 ) gegründet . eröffnung 26 . september 1923 city civic auditorium la bohème aufgeführt . jahr 1932 ensemble errichtete memorial opera house 15 . oktober aufführung tosca . erfolgreiche inszenierungen aufgeführt . legendäre great american music hall o’farrell street 1907 großen beben errichtet . großen depression 1933 vereinigten staaten erfolgreich geführt . 1936 sally rand leben halle . 1948 haus jazzclub umgewandelt . 1950ern verfiel gebäude zunehmend 1972 fans beabsichtigten abriss bewahrt . jahrzehnten traten great american music hall künstler , duke ellington , sarah vaughan , count basie , van morrison , the grateful dead bobby mcferrin . american conservatory theater geary street größte nichtkommerzielle theater stadt . act 1960 gegründet führt klassische zeitgenössische werke . bill graham civic auditorium ecke grove larkin street ging ausstellungsgebäude panama-pacific international exposition 1915 hervor . auditorium fasst siebentausend besucher . konzerte veranstaltungen fanden verlaufe bestehens . walk of fame los angeles bronzemedaillen ausgezeichneten künstlern boden eingangsbereichs eingelassen . bill graham 1965 rock-tanzpalast ecke fillmore geary street . 1968 ehemaligen carousel ballroom market street verlegt fillmore west umbenannt . zeit fillmore east new yorker second avenue betrieb . bekannten berühmten museen san francisco skurrile vertreter art bieten , museum antiker vibratoren barbra streisand gewidmete ausstellung . außer bauwerken museen sehenswürdigkeiten . alte , gebrauchte lagerhallen hafengebiet verkommen abgerissen , zeigt viertel \" fisherman’s wharf \" cafés , kneipen restaurants . pier 39 , teil fisherman’s wharf , ganzjähriger rummel souvenir-läden , fahrgeschäften restaurants . \" aquarium \" . pier 39 seelöwen anlegestellen niedergelassen ruheplätze . haupteinkaufstraße nördliche teil market street gegend union square , bummeln shoppen einlädt . sehenswürdigkeit innenstadt cable cars , erkennungszeichen san francisco . fahren linien . dienen hauptsächlich touristenattraktion , verkehrsmittel . interessierte zusätzlich cable car museum eingerichtet . wenigen kurvenrolltreppen westfield-kaufhaus market street bewundern . weltberühmt joseph b . strauss konstruierte golden gate bridge golden gate , öffnung bucht san francisco . 2 , 8 km lang 25 m breit , pylone jeweils 227 m stehen 1 . 280 m voneinander entfernt . brücke 19 . april 1937 fertiggestellt 28 . mai jahres offiziell verkehr freigegeben . blumengeschmückte , gewundene teil lombard street „ kurvenreichste straße welt “ bezeichnet . gefälle 27 % notwendig , straße serpentinen führen . gepflegten häusern bepflanzung entwickelte straßenabschnitt touristenmagneten . wolkenkratzer \" transamerica pyramid \" financial-district typisches wahrzeichen stadt verkaufs- büroräumen . gebäude 1960er william pereira entworfen 1972 fertiggestellt . 260 m 48 stockwerke . pyramide prägnanten „ flügeln “ sticht skyline hervor . touristen zugänglich . spanische \" mission dolores \" , älteste bauwerk stadt , 9 . oktober 1776 franziskaner padre junípero serra gegründet . wenigen gebäude erdbeben unbeschadet überstanden . 21 missionen el camino real zeit spanischen eroberung . 1958 entstanden filmszenen alfred hitchcocks thriller vertigo – reich toten . \" presidio \" zuge eroberung neuspaniens mission dolores errichtet . golden gate 1776 1994 wichtigste militärstützpunkt westküste enthält quadratkilometern gewerbe- wohngebiete . außerdem schauplatz filmen tv-produktionen . 2005 presidio letterman digital arts center , firmen george lucas ( lucasfilm , industrial light & magic , lucasarts ) beherbergt . \" „ painted ladies “ \" straßenzug historischen häusern alamo square , gepflegten fassaden blick skyline untermalen . haight-ashbury östlich golden gate parks gelegener stadtteil san francisco , benannt kreuzung haight street ashbury street . bekanntheit erlangte gebiet 60er jahren beatnik- hippie-bewegung . berühmte musiker , haight-ashbury wohnsitz dortige musikszene entscheidend mitprägten , janis joplin jimi hendrix gruppen grateful dead jefferson airplane . haight-ashbury anziehungspunkt alternative gegenkultur . coit tower , aussichtsturm telegraph hill san francisco , arthur brown jr . henry howard 1934 erbaut . lillie hitchcock coit , kind high society , große verehrerin feuerwehrleute san francisco . legende half brand nähe telegraph hill maskottchen \" engine company no . 5 of the volunteer fire department \" ( freiwillige feuerwehr ) . tod jahr 1929 hinterließ gemeinde 100 . 000 $ verschönerung stadt . spende 1934 64 meter hohe aussichtsturm stil art déco ehren freiwilligen feuerwehr errichtet . zwillingshügel twin peaks süden stadt markantes wahrzeichen . nähere umgebung natursehenswürdigkeiten : pazifikküste , weinbaugebiete napa valley sonoma valley , redwood-bäume muir woods national monument norden , strände half moon bay point reyes national seashore markanten leuchtturm . san francisco heimat zweier teams amerikanischen profiligen : san francisco sportstadien : candlestick park 1960 1999 giants 1971 2013 49ers beheimatet . umzug 49ers stadion 14 . august 2014 geschlossen abgerissen . california victory stadt fußballverein , 2007 usl first division , zweithöchsten spielklasse nordamerikanischen fußball spielte . saison spielbetrieb aufgegeben . san francisco zusammentreffen einwohnern vielfältigen kulturellen hintergründen kulinarische traditionen fest verankert . asiatischen raum japanische verschiedene chinesische küchen , koreanische , vietnamesische thailändische . leichten kalifornischen küche italienische , dänische , russische , mexikanische deutsche restaurants . lage pazifischen ozean fisch meeresfrüchte speisekarten . fisherman’s wharf krabbenküchen , „ krabbensuppe sourdough bread “ anbieten . sauerteigbrot , goldgräberzeit europa eingeführt – goldgräbern spitznamen sourdough eintrug – spezialität stadt . sourdough sam , vollbärtiger goldgräbermontur , maskottchen american-football-mannschaft san francisco 49ers . küche kalifornien san francisco bay area besten usa . erscheint 2006 ausschließlich bay area san francisco gewidmete ausgabe bekannten restaurantführers guide michelin . 1947 veranstaltetes festival of modern poetry begründete literarische bewegung san francisco renaissance . avantgarde amerikanischen literatur vertreten . 1950ern sogenannten coffee houses , europäischen kaffeehäusern , zentralen treffpunkt künstlern , poeten politischen aktivisten . francis ford coppola schrieb große drehbuchs the godfather trilogy caffè trieste , 1956 . filme , san francisco gedreht , \" james bond 007 – angesicht todes \" , \" is’ , doc ? \" , \" basic instinct \" , \" sneakers – lautlosen \" , \" edtv \" , \" mrs . doubtfire – stachelige kindermädchen \" , \" \" , \" vertigo \" , \" geheimnis mutter \" , \" dirty harry \" , \" presidio \" , \" metro \" , \" bullitt \" , \" 10 . 5 – erde bebt \" , \" streben glück \" , \" liebling , hältst axt ? \" \" hulk \" . filme , beispiel \" flucht alcatraz \" \" the rock \" , nahe gelegenen gefängnisinsel alcatraz . filme gelände presidios gedreht . filme \" toller käfer \" \" herbie groß fahrt \" filmreihe herbie stadt . bekanntesten serien , san francisco , zählen \" straßen san francisco \" , \" nash bridges \" , \" full house \" , \" monk \" , \" dharma & greg \" , \" falcon crest \" , \" kung fu \" , \" fälle harry fox \" , \" looking \" , mystery-serie \" charmed – zauberhafte hexen \" \" eli stone \" . serien erlangte san francisco werbeeffekt . \" charmed \" z . b . minute opening credits luftaufnahmen aufnahmen quer stadt genutzt . hauptquartier \" sternenflotte \" \" star trek \" san francisco , stadt franchise wichtige rolle spielt dementsprechend serien kinofilmen vorkommt . lied \" san francisco ( be sure to wear flowers your hair ) \" scott mckenzie stammt 1960er jahren weltweit klassiker . 1980er jahren entwickelte san francisco umliegende \" bay area \" bedeutenden zentrum \" metalszene \" ausgangspunkt \" thrash-metal-bewegung \" . besondere bedeutung bands \" metallica \" , \" testament \" \" exodus \" . san francisco sitz großer unternehmen levi strauss & co . , gap , wells fargo george lucas’ firma industrial light & magic . stadt finanzzentrum kaliforniens bedeutendsten finanzplätze welt . 20 . jahrhunderts siedelten firmen new economy . großer arbeitgeber region us-navy , stützpunkte unterhält . regional nahe gelegenen napa sonoma valley wein internationalem rang angebaut ( weinbau kalifornien ) . 2005 san francisco hauptsitz kalifornischen stammzellenforschungsprogramms . stadt kämpft 2009 erfolgreich mülltrennung recycling . ( stand 2015 ) 80 % anfallenden mülls wiederverwertet . stadt ziel gesetzt , 2020 abfälle stadt recyclen . san francisco amerikanische verhältnisse ausgeprägtes öffentliches verkehrsnetz , \" san francisco municipal railway \" , abgekürzt \" muni \" , betrieben . – teilweise historischen – straßenbahnen welt , oberleitungsbus san francisco , omnibussen u-bahn muni metro verkehren straßen stadt cable cars , seilgezogene straßenbahnen 19 . jahrhundert . heutzutage cable-car-linien : california-line , powell-mason-line powell-hyde-line . verbreiteten bild san francisco steilen hügeln powell-hyde-line nahe . embarcadero fährverbindungen angrenzenden orten bucht angeboten . region östlich bucht san francisco lässt s-bahn-ähnlichen system bay area rapid transit , abgekürzt \" bart \" , erreichen . san francisco-halbinsel silicon valley caltrain stadt verbunden , system s-bahn vergleichbar . nähe fußes bay bridge busbahnhof \" transbay terminal \" , zahlreiche orte bucht san francisco hauptverkehrszeiten expressbussen erreicht . nächstgelegenen amtrak betriebenen fernverkehrsbahnhöfe befinden emeryville , oakland san josé . diridon station beliebter umsteigebahnhof downtown san josé . anschlüsse regionalzug caltrain zentrum san francisco ( \" öpnv \" ) , emeryville oakland \" thruway \" -bussen amtrak \" bart \" -zügen ( \" öpnv \" ) . emeryville ausgangspunkt transkontinentalen fernverkehrszuges california zephyr chicago . fernzug coast starlight richtung seattle . los angeles hält fernverkehrsbahnhöfen . eröffnung transbay transit center 2017 geplant . straßen san francisco ungeachtet geologischen beschaffenheiten überwiegend schachbrettförmig angelegt . heißt , verlaufen hügel . straßen extrem steil . bergab parkende autos sicherheitsgründen räder straßenrand bergauf parkende autos straßenrand eingeschlagen . norden san francisco golden gate bridge marin county verbunden . richtung osten führt ursprünglich 1936 errichtete san francisco-oakland bay bridge yerba buena island oakland . östliche teil brücke mittlerweile 2013 eröffneten neubau ersetzt . san francisco international airport [ sfo ] los angeles bedeutendste internationale flughafen us-amerikanischen westküste . 12 , 9 km südlich stadt bucht . standort eigens flughafen bucht aufgeschüttet . hafen san francisco ( ) lange zeit größte geschäftigste amerikanischen westküste . piers 1970er jahren aufkommen containern wachstum durchschnittlichen schiffsgröße überflüssig . gesamte container-umschlag oakland gegenüberliegenden bucht ausgelagert . piers verfielen lange zeit . teilweise stadt verkauft , besann ( pier 39 ) leben erweckte . alten hafen piers alte hafenmeisterei anfang market street . gebäude jahren aufwendig renoviert . piers holz , ständige brandgefahr . 1990er brannte alten bauwerke . printmedienlandschaft san francisco vielfältig einwohner . wichtige publikationen genannt . publikationen unterschiedlichen ethnische gruppen zählt chinese sing tao daily , 1976 gegründet . san francisco bay area fünftgrößte fernseh- viertgrößte radiomarkt usa . großen fernseh-networks lokale vertragssender , programm networks zeitfenstern ( prime-time ) übertragen . cnn bbc regionale filialen . san francisco lokale fernsehsender : presidio san francisco befindet internetarchiv 450 milliarden webseiten ( stand : märz 2015 ) . presidio taucht star-trek-universum gene roddenberry hauptsitz sternenflotte föderation . vorwahl 415 san francisco 20 . februar 2015 vorwahlen us-großstadt , ortsgesprächen mitgewählt . 7 ziffern rufnummer gewählt vorwahl 415 . einführung zusätzlichen vorwahl 628 21 . februar 2015 san francisco anwahl telefonnummer ortsbereich 10-stelligen format verpflichtend , anrufen nummer vorwahl 415 nummer vorwahl 415 , mitwählen . san francisco geburtsort prominenter personen . \" liste persönlichkeiten san francisco . \"»\n",
      "\n"
     ]
    }
   ],
   "source": [
    "import random\n",
    "import numpy as np\n",
    "\n",
    "doc_idx = np.random.randint(len(all_docs))\n",
    "sims = model.docvecs.most_similar(doc_idx, topn=model.docvecs.count)  # get *all* similar documents\n",
    "print(u'TARGET (%d): «%s»\\n' % (doc_id, ' '.join(all_docs[doc_idx].words)))\n",
    "\n",
    "print(u'SIMILAR/DISSIMILAR DOCS\\n')\n",
    "for label, index in [('MOST', 0), ('MEDIAN', len(sims)//2), ('LEAST', len(sims) - 1)]:\n",
    "    print(u'%s %s: «%s»\\n' % (label, sims[index], ' '.join(all_docs[sims[index][0]].words)))"
   ]
  },
  {
   "cell_type": "markdown",
   "metadata": {},
   "source": [
    "## Do the word vectors show useful similarities?"
   ]
  },
  {
   "cell_type": "code",
   "execution_count": 48,
   "metadata": {},
   "outputs": [
    {
     "name": "stdout",
     "output_type": "stream",
     "text": [
      "rohstoffmangel\n"
     ]
    },
    {
     "data": {
      "text/plain": [
       "[('njc', 0.4766344726085663),\n",
       " ('blumenkorb', 0.4700588285923004),\n",
       " ('ziegenfuss', 0.46407201886177063),\n",
       " ('sankei', 0.4613894820213318),\n",
       " ('yaḥyā', 0.4587106704711914),\n",
       " ('uṣūl', 0.4571664333343506),\n",
       " ('katastrophenfilme', 0.456667423248291),\n",
       " ('sfc', 0.4526963233947754),\n",
       " ('almanachs', 0.4512360095977783),\n",
       " ('kapitaldienst', 0.4502202272415161),\n",
       " ('eggs', 0.44766002893447876),\n",
       " ('poker', 0.4469255805015564),\n",
       " ('erneuerbare-energien-gesetzes', 0.4467746615409851),\n",
       " ('adoptieren', 0.4457639455795288),\n",
       " ('spendete', 0.4452362358570099),\n",
       " ('amantadin', 0.4444889426231384),\n",
       " ('spice', 0.4441375136375427),\n",
       " ('feuerwerkskörpern', 0.44211944937705994),\n",
       " ('zeichentrickfilms', 0.4400610327720642),\n",
       " ('dx7', 0.43809282779693604)]"
      ]
     },
     "execution_count": 48,
     "metadata": {},
     "output_type": "execute_result"
    }
   ],
   "source": [
    "import random\n",
    "\n",
    "\n",
    "# pick a random word with a suitable number of occurences\n",
    "while True:\n",
    "    word = random.choice(model.wv.index2word)\n",
    "    if model.wv.vocab[word].count > 10:\n",
    "        break\n",
    "        \n",
    "print(word)\n",
    "word='bitcoin'\n",
    "model.wv.most_similar(word, topn=20)"
   ]
  },
  {
   "cell_type": "markdown",
   "metadata": {},
   "source": [
    "## Evaluate word vectors on syntactic analogies"
   ]
  },
  {
   "cell_type": "code",
   "execution_count": 7,
   "metadata": {},
   "outputs": [
    {
     "name": "stdout",
     "output_type": "stream",
     "text": [
      "nouns: SI/PL: 47.03% correct (182 of 387)\n",
      "nouns: PL/SI: 33.25% correct (128 of 385)\n",
      "adjectives: GR/KOM: 26.76% correct (19 of 71)\n",
      "adjectives: KOM/GR: 25.33% correct (19 of 75)\n",
      "adjectives: GR/SUP: 25.00% correct (1 of 4)\n",
      "adjectives: SUP/GR: 0.00% correct (0 of 2)\n",
      "adjectives: KOM/SUP: 27.27% correct (3 of 11)\n",
      "adjectives: SUP/KOM: 23.08% correct (3 of 13)\n",
      "verbs (pres): INF/1SP: 16.00% correct (4 of 25)\n",
      "verbs (pres): 1SP/INF: 24.32% correct (9 of 37)\n",
      "verbs (pres): INF/2PP: 45.05% correct (41 of 91)\n",
      "verbs (pres): 2PP/INF: 41.58% correct (42 of 101)\n",
      "verbs (pres): 1SP/2PP: 19.05% correct (4 of 21)\n",
      "verbs (pres): 2PP/1SP: 5.26% correct (1 of 19)\n",
      "verbs (past): INF/3SV: 35.00% correct (49 of 140)\n",
      "verbs (past): 3SV/INF: 28.78% correct (40 of 139)\n",
      "verbs (past): INF/3PV: 48.89% correct (66 of 135)\n",
      "verbs (past): 3PV/INF: 38.17% correct (50 of 131)\n",
      "verbs (past): 3SV/3PV: 72.82% correct (150 of 206)\n",
      "verbs (past): 3PV/3SV: 70.19% correct (146 of 208)\n",
      "total: 43.48% correct (957 of 2201)\n"
     ]
    }
   ],
   "source": [
    "sections = model.wv.accuracy('data/syntactic.questions')\n",
    "for i, section in enumerate(sections):\n",
    "    correct, incorrect = len(sections[i]['correct']), len(sections[i]['incorrect'])\n",
    "    print('%s: %0.2f%% correct (%d of %d)' % (section['section'], float(correct*100)/(correct+incorrect), correct, correct+incorrect))"
   ]
  },
  {
   "cell_type": "markdown",
   "metadata": {},
   "source": [
    "## Evaluate word vectors on semantic analogies"
   ]
  },
  {
   "cell_type": "code",
   "execution_count": 8,
   "metadata": {},
   "outputs": [
    {
     "name": "stdout",
     "output_type": "stream",
     "text": [
      "semantic analogies: 47.37% correct (207 of 437)\n",
      "total: 47.37% correct (207 of 437)\n"
     ]
    }
   ],
   "source": [
    "sections = model.wv.accuracy('data/semantic.bestmatch.questions')\n",
    "for i, section in enumerate(sections):\n",
    "    correct, incorrect = len(sections[i]['correct']), len(sections[i]['incorrect'])\n",
    "    print('%s: %0.2f%% correct (%d of %d)' % (section['section'], float(correct*100)/(correct+incorrect), correct, correct+incorrect))"
   ]
  }
 ],
 "metadata": {
  "kernelspec": {
   "display_name": "Python 3",
   "language": "python",
   "name": "python3"
  },
  "language_info": {
   "codemirror_mode": {
    "name": "ipython",
    "version": 3
   },
   "file_extension": ".py",
   "mimetype": "text/x-python",
   "name": "python",
   "nbconvert_exporter": "python",
   "pygments_lexer": "ipython3",
   "version": "3.6.4"
  }
 },
 "nbformat": 4,
 "nbformat_minor": 2
}
